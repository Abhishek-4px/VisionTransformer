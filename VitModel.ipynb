{
  "nbformat": 4,
  "nbformat_minor": 0,
  "metadata": {
    "colab": {
      "provenance": [],
      "gpuType": "T4"
    },
    "kernelspec": {
      "name": "python3",
      "display_name": "Python 3"
    },
    "language_info": {
      "name": "python"
    },
    "accelerator": "GPU"
  },
  "cells": [
    {
      "cell_type": "markdown",
      "source": [
        "<h3>Importing Libs<h3>"
      ],
      "metadata": {
        "id": "cLqNliZRntjZ"
      }
    },
    {
      "cell_type": "code",
      "execution_count": 93,
      "metadata": {
        "id": "DIOHsnx3lehh"
      },
      "outputs": [],
      "source": [
        "import torch\n",
        "import torch.nn as nn\n",
        "import torch.nn.functional as F\n",
        "import torch.optim as optim\n",
        "import torchvision\n",
        "from torch.utils.data import DataLoader\n",
        "from torchvision import datasets,transforms\n",
        "from tqdm.auto import tqdm\n",
        "import numpy as np\n",
        "import matplotlib.pyplot as plt\n",
        "import random"
      ]
    },
    {
      "cell_type": "markdown",
      "source": [
        "<h3>Device</h3>"
      ],
      "metadata": {
        "id": "UhU3m8YqpBDo"
      }
    },
    {
      "cell_type": "code",
      "source": [
        "torch.__version__"
      ],
      "metadata": {
        "colab": {
          "base_uri": "https://localhost:8080/",
          "height": 36
        },
        "id": "kMDOKMJYnv8B",
        "outputId": "f77966cc-4816-43d2-8d25-3b7e1f6f1fc4"
      },
      "execution_count": 94,
      "outputs": [
        {
          "output_type": "execute_result",
          "data": {
            "text/plain": [
              "'2.8.0+cu126'"
            ],
            "application/vnd.google.colaboratory.intrinsic+json": {
              "type": "string"
            }
          },
          "metadata": {},
          "execution_count": 94
        }
      ]
    },
    {
      "cell_type": "code",
      "source": [
        "torchvision.__version__"
      ],
      "metadata": {
        "colab": {
          "base_uri": "https://localhost:8080/",
          "height": 36
        },
        "id": "FJ0injM5oH6W",
        "outputId": "9234e4d8-4c67-4254-edb6-4039cc3575ad"
      },
      "execution_count": 95,
      "outputs": [
        {
          "output_type": "execute_result",
          "data": {
            "text/plain": [
              "'0.23.0+cu126'"
            ],
            "application/vnd.google.colaboratory.intrinsic+json": {
              "type": "string"
            }
          },
          "metadata": {},
          "execution_count": 95
        }
      ]
    },
    {
      "cell_type": "code",
      "source": [
        "torch.cuda.is_available()"
      ],
      "metadata": {
        "colab": {
          "base_uri": "https://localhost:8080/"
        },
        "id": "L0DS52PyoKeg",
        "outputId": "2d982f31-f029-441f-fca4-09c03c99d7fe"
      },
      "execution_count": 96,
      "outputs": [
        {
          "output_type": "execute_result",
          "data": {
            "text/plain": [
              "True"
            ]
          },
          "metadata": {},
          "execution_count": 96
        }
      ]
    },
    {
      "cell_type": "code",
      "source": [
        "device=torch.device(\"cuda\" if torch.cuda.is_available() else \"cpu\")\n",
        "print(f\"Using {device}\")"
      ],
      "metadata": {
        "colab": {
          "base_uri": "https://localhost:8080/"
        },
        "id": "rC0wi6FqoQxF",
        "outputId": "beb80f83-b6b4-49c6-8b08-8d0da123c09a"
      },
      "execution_count": 97,
      "outputs": [
        {
          "output_type": "stream",
          "name": "stdout",
          "text": [
            "Using cuda\n"
          ]
        }
      ]
    },
    {
      "cell_type": "markdown",
      "source": [
        "<h3>Reproducibility</h3>"
      ],
      "metadata": {
        "id": "tfnfxJ08pf77"
      }
    },
    {
      "cell_type": "code",
      "source": [
        "torch.manual_seed(42)\n",
        "torch.cuda.manual_seed(42)\n",
        "np.random.seed(42)"
      ],
      "metadata": {
        "id": "wy9os-39o9OQ"
      },
      "execution_count": 98,
      "outputs": []
    },
    {
      "cell_type": "markdown",
      "source": [
        "<h3>Hyperparameters</h3>"
      ],
      "metadata": {
        "id": "IVJIcTyqqE73"
      }
    },
    {
      "cell_type": "code",
      "source": [
        "BATCH_SIZE=128\n",
        "EPOCHS=20\n",
        "LEARNING_RATE=3e-4\n",
        "PATCH_SIZE=4\n",
        "NUM_CLASSES=10\n",
        "IMAGE_SIZE=32\n",
        "CHANNELS=3\n",
        "EMBED_DIM=256\n",
        "NUM_HEADS=8\n",
        "DEPTH=6\n",
        "MLP_DIM=512\n",
        "DROPOUT_RATE=0.05"
      ],
      "metadata": {
        "id": "Pt4OORhlp79g"
      },
      "execution_count": 99,
      "outputs": []
    },
    {
      "cell_type": "markdown",
      "source": [
        "<h3>Image Transformations + Data Augmentation</h3>\n",
        "\n",
        "\n"
      ],
      "metadata": {
        "id": "hBmTIoFa-dxl"
      }
    },
    {
      "cell_type": "code",
      "source": [
        "# transform_train=transforms.Compose([\n",
        "#     transforms.ToTensor(),\n",
        "#     transforms.Normalize((0.5,0.5,0.5),(0.5,0.5,0.5))                    # It takes transforms.dropout(mean,std) ...\n",
        "#                                                                          # we have 3(RGB) channels as its a colorful dataset so we are taking dropouts individually for each channel\n",
        "# ])\n",
        "\n",
        "transform_train = transforms.Compose([\n",
        "    transforms.RandomCrop(32, padding=4),                                  # Crops the image 32*32 patch after padding\n",
        "    transforms.RandomHorizontalFlip(),                                     # Adding flips\n",
        "    transforms.ToTensor(),\n",
        "    transforms.Normalize((0.5,0.5,0.5),(0.5,0.5,0.5))\n",
        "])\n"
      ],
      "metadata": {
        "id": "3EGI7Tlb-POp"
      },
      "execution_count": 183,
      "outputs": []
    },
    {
      "cell_type": "markdown",
      "source": [
        "<h3> Seggregating the dataset </h3>"
      ],
      "metadata": {
        "id": "umsILBUlA8Cv"
      }
    },
    {
      "cell_type": "code",
      "source": [
        "train_dataset=datasets.CIFAR10(root=\"data\",\n",
        "                               train=True,\n",
        "                               download=True,\n",
        "                               transform=transform_train)"
      ],
      "metadata": {
        "id": "G9Tx_SK7AvXP"
      },
      "execution_count": 184,
      "outputs": []
    },
    {
      "cell_type": "code",
      "source": [
        "test_dataset=datasets.CIFAR10(root=\"data\",\n",
        "                               train=False,\n",
        "                               download=True,\n",
        "                               transform=transform_train)"
      ],
      "metadata": {
        "id": "kGu8m1R2Eg4A"
      },
      "execution_count": 185,
      "outputs": []
    },
    {
      "cell_type": "code",
      "source": [
        "train_dataset"
      ],
      "metadata": {
        "colab": {
          "base_uri": "https://localhost:8080/"
        },
        "id": "3ePtujIrEvt_",
        "outputId": "0eb4cccc-5244-40ea-c648-0ee7c7ed24cc"
      },
      "execution_count": 186,
      "outputs": [
        {
          "output_type": "execute_result",
          "data": {
            "text/plain": [
              "Dataset CIFAR10\n",
              "    Number of datapoints: 50000\n",
              "    Root location: data\n",
              "    Split: Train\n",
              "    StandardTransform\n",
              "Transform: Compose(\n",
              "               RandomCrop(size=(32, 32), padding=4)\n",
              "               RandomHorizontalFlip(p=0.5)\n",
              "               ToTensor()\n",
              "               Normalize(mean=(0.5, 0.5, 0.5), std=(0.5, 0.5, 0.5))\n",
              "           )"
            ]
          },
          "metadata": {},
          "execution_count": 186
        }
      ]
    },
    {
      "cell_type": "code",
      "source": [
        "test_dataset"
      ],
      "metadata": {
        "colab": {
          "base_uri": "https://localhost:8080/"
        },
        "id": "mzySt0VhE3lG",
        "outputId": "d692ebe7-e049-4b5b-d173-abb00a130f56"
      },
      "execution_count": 187,
      "outputs": [
        {
          "output_type": "execute_result",
          "data": {
            "text/plain": [
              "Dataset CIFAR10\n",
              "    Number of datapoints: 10000\n",
              "    Root location: data\n",
              "    Split: Test\n",
              "    StandardTransform\n",
              "Transform: Compose(\n",
              "               RandomCrop(size=(32, 32), padding=4)\n",
              "               RandomHorizontalFlip(p=0.5)\n",
              "               ToTensor()\n",
              "               Normalize(mean=(0.5, 0.5, 0.5), std=(0.5, 0.5, 0.5))\n",
              "           )"
            ]
          },
          "metadata": {},
          "execution_count": 187
        }
      ]
    },
    {
      "cell_type": "code",
      "source": [
        "len(train_dataset),len(test_dataset)"
      ],
      "metadata": {
        "colab": {
          "base_uri": "https://localhost:8080/"
        },
        "id": "DLb1tHI1E9F-",
        "outputId": "51c7349a-5a27-430c-cc04-b365220f3ea6"
      },
      "execution_count": 188,
      "outputs": [
        {
          "output_type": "execute_result",
          "data": {
            "text/plain": [
              "(50000, 10000)"
            ]
          },
          "metadata": {},
          "execution_count": 188
        }
      ]
    },
    {
      "cell_type": "markdown",
      "source": [
        "<h3>Data to DataLoaders for Batching</h3>"
      ],
      "metadata": {
        "id": "FY64QBBBFD6K"
      }
    },
    {
      "cell_type": "code",
      "source": [
        "train_loader=DataLoader(dataset=train_dataset,\n",
        "                        batch_size=BATCH_SIZE,\n",
        "                        shuffle=True,\n",
        "                        )"
      ],
      "metadata": {
        "id": "FfrLH6qAFB8A"
      },
      "execution_count": 189,
      "outputs": []
    },
    {
      "cell_type": "code",
      "source": [
        "test_loader=DataLoader(dataset=test_dataset,\n",
        "                      batch_size=BATCH_SIZE,\n",
        "                      shuffle=True,\n",
        "                      )"
      ],
      "metadata": {
        "id": "dGCTQeHFFrw0"
      },
      "execution_count": 190,
      "outputs": []
    },
    {
      "cell_type": "code",
      "source": [
        "print(f\"DataLoaders are : {train_loader,test_loader}\")"
      ],
      "metadata": {
        "colab": {
          "base_uri": "https://localhost:8080/"
        },
        "id": "A-VlBV0aFu1-",
        "outputId": "0d705e3a-cabc-4530-ad0b-d591b9ff682c"
      },
      "execution_count": 191,
      "outputs": [
        {
          "output_type": "stream",
          "name": "stdout",
          "text": [
            "DataLoaders are : (<torch.utils.data.dataloader.DataLoader object at 0x7a3a73637c80>, <torch.utils.data.dataloader.DataLoader object at 0x7a3a73ec9370>)\n"
          ]
        }
      ]
    },
    {
      "cell_type": "code",
      "source": [
        "print(f\"Length of DataLoaders are : {len(train_loader),len(test_loader)}\")"
      ],
      "metadata": {
        "colab": {
          "base_uri": "https://localhost:8080/"
        },
        "id": "cZs19-uEGIQ7",
        "outputId": "c91b54f3-05b1-4e4d-bd9a-df1dfb972f22"
      },
      "execution_count": 192,
      "outputs": [
        {
          "output_type": "stream",
          "name": "stdout",
          "text": [
            "Length of DataLoaders are : (196, 40)\n"
          ]
        }
      ]
    },
    {
      "cell_type": "code",
      "source": [
        "50000/128"
      ],
      "metadata": {
        "colab": {
          "base_uri": "https://localhost:8080/"
        },
        "id": "cjC4tvi1GRY2",
        "outputId": "dccd7d70-fb0f-4c2f-f170-afaf68cdcb86"
      },
      "execution_count": 193,
      "outputs": [
        {
          "output_type": "execute_result",
          "data": {
            "text/plain": [
              "390.625"
            ]
          },
          "metadata": {},
          "execution_count": 193
        }
      ]
    },
    {
      "cell_type": "code",
      "source": [
        "10000/128"
      ],
      "metadata": {
        "colab": {
          "base_uri": "https://localhost:8080/"
        },
        "id": "GSfuGVUDGWeV",
        "outputId": "89869d7b-358d-40a5-aaf0-e3423b941cd3"
      },
      "execution_count": 194,
      "outputs": [
        {
          "output_type": "execute_result",
          "data": {
            "text/plain": [
              "78.125"
            ]
          },
          "metadata": {},
          "execution_count": 194
        }
      ]
    },
    {
      "cell_type": "code",
      "source": [
        "BATCH_SIZE"
      ],
      "metadata": {
        "colab": {
          "base_uri": "https://localhost:8080/"
        },
        "id": "uZpSCPf1GX3z",
        "outputId": "c23d192b-4786-4e94-96ec-74ce31a7b99c"
      },
      "execution_count": 195,
      "outputs": [
        {
          "output_type": "execute_result",
          "data": {
            "text/plain": [
              "256"
            ]
          },
          "metadata": {},
          "execution_count": 195
        }
      ]
    },
    {
      "cell_type": "markdown",
      "source": [
        "<h3>Building ViT</h3>"
      ],
      "metadata": {
        "id": "q36XqO-SGcB2"
      }
    },
    {
      "cell_type": "code",
      "source": [
        "# The intuition is that we have a Patch of tensor (B,N,E) where N is W/P, H/P then we add an extra classification token of tensor (B,1,E)\n",
        "# Then we concatenate both of them so tensor becomes (B,N+1,E) and lastly adding the positional embeddingsas transformer doesn't have learnt or stored them like LSTM and GRU'S\n",
        "\n",
        "class PatchEmbedding(nn.Module):\n",
        "  def __init__(self,img_size,patch_size,in_channels,embed_dim):\n",
        "    super().__init__()\n",
        "    self.patch_size=patch_size\n",
        "    self.proj=nn.Conv2d(in_channels=in_channels,out_channels=embed_dim,kernel_size=patch_size,stride=patch_size)\n",
        "    num_patches=(img_size//patch_size)**2\n",
        "    self.cls_token=nn.Parameter(torch.randn(1,1,embed_dim))                      #(1,1,E)\n",
        "    self.pos_embed=nn.Parameter(torch.randn(1,1+num_patches,embed_dim))          #(1,1+N,E)\n",
        "\n",
        "  def forward(self,x:torch.Tensor):\n",
        "    B=x.size(0)                                          # Here B is the batch size which has the number of images in this batch\n",
        "    x=self.proj(x)                                       # (B, E, H/P, W/P) after calling proj\n",
        "    x=x.flatten(2).transpose(1,2)                        # (B, N, E) and N is N = (H/P) * (W/P)      and reason of  transpose is the input acceptance form of the transformer\n",
        "                                                         # Transformers work with sequence-first representations\n",
        "    cls_tokens=self.cls_token.expand((B,-1,-1))          # -1 means do not change this dimension So now (B,1,E)\n",
        "    x=torch.cat((cls_tokens,x),dim=1)                    # (B,N+1,E) Classification token concatenated\n",
        "    x=x+self.pos_embed\n",
        "    return x"
      ],
      "metadata": {
        "id": "hDu0j_G2GaMH"
      },
      "execution_count": 196,
      "outputs": []
    },
    {
      "cell_type": "code",
      "source": [
        "# The MCP takes the features and it enriches them by first expanding them via linear neural layer then applying a non linear actuivation function and then again adding a linear nn\n",
        "# adding the dropouts to ensure no overfitting\n",
        "# Not using relu as it is harsh for a structure like Transformer we needed a smooth function that doesnot completely cuts off but keeps a little bit info of the features to the next layer\n",
        "# So we use Gaussian error linear unit\n",
        "\n",
        "class MultiLayerPerceptron(nn.Module):\n",
        "  def __init__(self,in_features,hidden_features,dropout_rate):\n",
        "    super().__init__()\n",
        "    self.fc1=nn.Linear(in_features=in_features,out_features=hidden_features)\n",
        "    self.fc2=nn.Linear(in_features=hidden_features,out_features=in_features)\n",
        "    self.dropout=nn.Dropout(dropout_rate)\n",
        "\n",
        "  def forward(self,x):\n",
        "    x=self.fc1(x)\n",
        "    x=F.gelu(x)\n",
        "    x=self.dropout(x)\n",
        "    x=self.fc2(x)\n",
        "    x=self.dropout(x)\n",
        "    return x"
      ],
      "metadata": {
        "id": "HJKwlObz-W5F"
      },
      "execution_count": 197,
      "outputs": []
    },
    {
      "cell_type": "code",
      "source": [
        "class EncoderLayer(nn.Module):\n",
        "  def __init__(self,embed_dim,num_heads,mlp_dim,dropout_rate):\n",
        "    super().__init__()\n",
        "    self.norm1=nn.LayerNorm(embed_dim)                                  # We apply norm only on embed dims because we have a fear of values to shrink or explode so we\n",
        "                                                                        # re initialize the mean and std and get alpha and gamma shifts\n",
        "                                                                        # We want to normalize individually not across batch wise or seq length so we apply them only to embed dims\n",
        "    self.attention=nn.MultiheadAttention(embed_dim,num_heads,dropout_rate,batch_first=True)\n",
        "    self.norm2=nn.LayerNorm(embed_dim)\n",
        "    self.mlp=MultiLayerPerceptron(embed_dim,mlp_dim,dropout_rate)\n",
        "\n",
        "  def forward(self,x):\n",
        "    x= x + self.attention(self.norm1(x),self.norm1(x),self.norm1(x))[0]      # Output form is this but we want output only and ignore the weights\n",
        "                                                                        # attn_output, attn_weights = self.attn(query, key, value)\n",
        "    x= x + self.mlp(self.norm2(x))\n",
        "    return x"
      ],
      "metadata": {
        "id": "vn60ydWh_AxB"
      },
      "execution_count": 198,
      "outputs": []
    },
    {
      "cell_type": "code",
      "source": [
        "# The OG vision transformer class\n",
        "\n",
        "class ViT(nn.Module):\n",
        "  def __init__(self,img_size,patch_size,in_channels,num_classes,embed_dim,depth,num_heads,mlp_dim,dropout_rate):\n",
        "    super().__init__()\n",
        "    self.patch_embeds=PatchEmbedding(img_size,patch_size,in_channels,embed_dim)\n",
        "    self.encoder=nn.Sequential(*[EncoderLayer(embed_dim,num_heads,mlp_dim,dropout_rate)\n",
        "                               for _ in range(depth) ])                  # We used * because else it would take the complete list of number of layers and treat them as a single module\n",
        "                                                                         # It won't iterate throught the layers individually hence the forward pass would break\n",
        "                                                                         # But if we add a * for unnpacking of list it treats each layer differently\n",
        "    self.norm=nn.LayerNorm(embed_dim)\n",
        "    self.head=nn.Linear(embed_dim,num_classes)                           # The head takes the input dims and then\n",
        "\n",
        "  def forward(self,x):\n",
        "    x=self.patch_embeds(x)\n",
        "    x=self.encoder(x)\n",
        "    x=self.norm(x)\n",
        "    cls_token=x[:,0]                                                     # The shape is [B,N+1,embed_dim] but we only want the cls token across all the batches\n",
        "                                                                         # So we are extracting the classification token after updating it holds the important information of the about the patches\n",
        "    return self.head(cls_token)\n"
      ],
      "metadata": {
        "id": "NOBnZ1yqOojy"
      },
      "execution_count": 199,
      "outputs": []
    },
    {
      "cell_type": "markdown",
      "source": [
        "<h3>Incorporating the Transformer</h3>"
      ],
      "metadata": {
        "id": "dr1dxSdJd5gv"
      }
    },
    {
      "cell_type": "code",
      "source": [
        "model = ViT(\n",
        "    IMAGE_SIZE, PATCH_SIZE, CHANNELS, NUM_CLASSES,\n",
        "    EMBED_DIM, DEPTH, NUM_HEADS, MLP_DIM, DROPOUT_RATE\n",
        ").to(device)"
      ],
      "metadata": {
        "id": "b2rwC9d1dOwX"
      },
      "execution_count": 200,
      "outputs": []
    },
    {
      "cell_type": "code",
      "source": [
        "model"
      ],
      "metadata": {
        "id": "163Din3TdqgZ",
        "colab": {
          "base_uri": "https://localhost:8080/"
        },
        "outputId": "9a621104-886e-47cd-f0aa-0f3d5fa6403f"
      },
      "execution_count": 201,
      "outputs": [
        {
          "output_type": "execute_result",
          "data": {
            "text/plain": [
              "ViT(\n",
              "  (patch_embeds): PatchEmbedding(\n",
              "    (proj): Conv2d(3, 256, kernel_size=(4, 4), stride=(4, 4))\n",
              "  )\n",
              "  (encoder): Sequential(\n",
              "    (0): EncoderLayer(\n",
              "      (norm1): LayerNorm((256,), eps=1e-05, elementwise_affine=True)\n",
              "      (attention): MultiheadAttention(\n",
              "        (out_proj): NonDynamicallyQuantizableLinear(in_features=256, out_features=256, bias=True)\n",
              "      )\n",
              "      (norm2): LayerNorm((256,), eps=1e-05, elementwise_affine=True)\n",
              "      (mlp): MultiLayerPerceptron(\n",
              "        (fc1): Linear(in_features=256, out_features=512, bias=True)\n",
              "        (fc2): Linear(in_features=512, out_features=256, bias=True)\n",
              "        (dropout): Dropout(p=0.1, inplace=False)\n",
              "      )\n",
              "    )\n",
              "    (1): EncoderLayer(\n",
              "      (norm1): LayerNorm((256,), eps=1e-05, elementwise_affine=True)\n",
              "      (attention): MultiheadAttention(\n",
              "        (out_proj): NonDynamicallyQuantizableLinear(in_features=256, out_features=256, bias=True)\n",
              "      )\n",
              "      (norm2): LayerNorm((256,), eps=1e-05, elementwise_affine=True)\n",
              "      (mlp): MultiLayerPerceptron(\n",
              "        (fc1): Linear(in_features=256, out_features=512, bias=True)\n",
              "        (fc2): Linear(in_features=512, out_features=256, bias=True)\n",
              "        (dropout): Dropout(p=0.1, inplace=False)\n",
              "      )\n",
              "    )\n",
              "    (2): EncoderLayer(\n",
              "      (norm1): LayerNorm((256,), eps=1e-05, elementwise_affine=True)\n",
              "      (attention): MultiheadAttention(\n",
              "        (out_proj): NonDynamicallyQuantizableLinear(in_features=256, out_features=256, bias=True)\n",
              "      )\n",
              "      (norm2): LayerNorm((256,), eps=1e-05, elementwise_affine=True)\n",
              "      (mlp): MultiLayerPerceptron(\n",
              "        (fc1): Linear(in_features=256, out_features=512, bias=True)\n",
              "        (fc2): Linear(in_features=512, out_features=256, bias=True)\n",
              "        (dropout): Dropout(p=0.1, inplace=False)\n",
              "      )\n",
              "    )\n",
              "    (3): EncoderLayer(\n",
              "      (norm1): LayerNorm((256,), eps=1e-05, elementwise_affine=True)\n",
              "      (attention): MultiheadAttention(\n",
              "        (out_proj): NonDynamicallyQuantizableLinear(in_features=256, out_features=256, bias=True)\n",
              "      )\n",
              "      (norm2): LayerNorm((256,), eps=1e-05, elementwise_affine=True)\n",
              "      (mlp): MultiLayerPerceptron(\n",
              "        (fc1): Linear(in_features=256, out_features=512, bias=True)\n",
              "        (fc2): Linear(in_features=512, out_features=256, bias=True)\n",
              "        (dropout): Dropout(p=0.1, inplace=False)\n",
              "      )\n",
              "    )\n",
              "    (4): EncoderLayer(\n",
              "      (norm1): LayerNorm((256,), eps=1e-05, elementwise_affine=True)\n",
              "      (attention): MultiheadAttention(\n",
              "        (out_proj): NonDynamicallyQuantizableLinear(in_features=256, out_features=256, bias=True)\n",
              "      )\n",
              "      (norm2): LayerNorm((256,), eps=1e-05, elementwise_affine=True)\n",
              "      (mlp): MultiLayerPerceptron(\n",
              "        (fc1): Linear(in_features=256, out_features=512, bias=True)\n",
              "        (fc2): Linear(in_features=512, out_features=256, bias=True)\n",
              "        (dropout): Dropout(p=0.1, inplace=False)\n",
              "      )\n",
              "    )\n",
              "    (5): EncoderLayer(\n",
              "      (norm1): LayerNorm((256,), eps=1e-05, elementwise_affine=True)\n",
              "      (attention): MultiheadAttention(\n",
              "        (out_proj): NonDynamicallyQuantizableLinear(in_features=256, out_features=256, bias=True)\n",
              "      )\n",
              "      (norm2): LayerNorm((256,), eps=1e-05, elementwise_affine=True)\n",
              "      (mlp): MultiLayerPerceptron(\n",
              "        (fc1): Linear(in_features=256, out_features=512, bias=True)\n",
              "        (fc2): Linear(in_features=512, out_features=256, bias=True)\n",
              "        (dropout): Dropout(p=0.1, inplace=False)\n",
              "      )\n",
              "    )\n",
              "  )\n",
              "  (norm): LayerNorm((256,), eps=1e-05, elementwise_affine=True)\n",
              "  (head): Linear(in_features=256, out_features=10, bias=True)\n",
              ")"
            ]
          },
          "metadata": {},
          "execution_count": 201
        }
      ]
    },
    {
      "cell_type": "markdown",
      "source": [
        "<h3>Loss Function and the Optimizer</h3>"
      ],
      "metadata": {
        "id": "3LePcrx9eSEF"
      }
    },
    {
      "cell_type": "code",
      "source": [
        "loss_function=nn.CrossEntropyLoss()\n",
        "optimizer=torch.optim.Adam(params=model.parameters(),lr=LEARNING_RATE)"
      ],
      "metadata": {
        "id": "ByFsPKlQeZY5"
      },
      "execution_count": 202,
      "outputs": []
    },
    {
      "cell_type": "markdown",
      "source": [
        "<h3>Training Loop</h3>"
      ],
      "metadata": {
        "id": "j59p3qUIiyYZ"
      }
    },
    {
      "cell_type": "code",
      "source": [
        "def train(model,loader,optimizer,loss_function):\n",
        "  model.train()                                                           # Training mode\n",
        "  total_loss,correct=0,0\n",
        "  for x,y in loader:\n",
        "    x,y=x.to(device),y.to(device)\n",
        "    optimizer.zero_grad()                                                 # We don't want the old iteration gradients So we clear them by zeroing\n",
        "    output=model(x)\n",
        "    loss=loss_function(output,y)\n",
        "    loss.backward()\n",
        "    optimizer.step()                                                      # Updation of the gradients\n",
        "    correct+=(output.argmax(1)==y).sum().item()                           # summing up all the correct predictions\n",
        "    total_loss+=loss.item()*x.size(0)                                     # the average loss per sample for this batch (loss.item()), Multiplying by x.size(0) (batch size) gives the sum of losses for all samples in this batch\n",
        "  return total_loss/len(loader.dataset),correct/len(loader.dataset)       # average loss per sample over the whole dataset and correct part gives the accuracy\n",
        "\n",
        "\n",
        "# Got confused here :\n",
        "# # For better understanding\n",
        "\n",
        "# loss.item() = average loss per sample in the batch.\n",
        "# Multiply by batch size → total loss of that batch.          (batch_sizes are different)\n",
        "# Add for all batches → total loss of dataset.\n",
        "# Divide by dataset size → average loss per sample for whole dataset.\n",
        "# Similarly for correct / len(loader.dataset), gives accuracy."
      ],
      "metadata": {
        "id": "f5WSePB5i8NN"
      },
      "execution_count": 203,
      "outputs": []
    },
    {
      "cell_type": "markdown",
      "source": [
        "<h3> Evaluation Loop </h3>"
      ],
      "metadata": {
        "id": "ZrtiqyfEx7Ej"
      }
    },
    {
      "cell_type": "code",
      "source": [
        "def evaluate(model,loader):\n",
        "  model.eval()                                                             # Evaluation mode\n",
        "  correct=0\n",
        "  with torch.inference_mode():                                            # turning on the inference mode to make preds by the model\n",
        "    for x,y in loader:\n",
        "      x,y=x.to(device),y.to(device)\n",
        "      output=model(x)\n",
        "      correct+=(output.argmax(dim=1)==y).sum().item()\n",
        "    return correct / len(loader.dataset)\n"
      ],
      "metadata": {
        "id": "01pM7bEmyBC8"
      },
      "execution_count": 204,
      "outputs": []
    },
    {
      "cell_type": "markdown",
      "source": [
        "<h3>Training </h3>"
      ],
      "metadata": {
        "id": "f1_ofB4z-wSs"
      }
    },
    {
      "cell_type": "code",
      "source": [
        "train_accuracies,test_accuracies=[],[]\n",
        "\n",
        "for epoch in tqdm(range(EPOCHS)):\n",
        "  train_loss,train_acc=train(model,train_loader,optimizer,loss_function)\n",
        "  test_acc=evaluate(model,test_loader)\n",
        "  train_accuracies.append(train_acc)\n",
        "  test_accuracies.append(test_acc)\n",
        "  print(f\"Epoch : {epoch+1}/{EPOCHS} , Train Loss: {train_loss:.4f} , Train Accuracy {train_acc:.4f}% , Test Accuracy {test_acc}%\")"
      ],
      "metadata": {
        "id": "XOHHSotV-zPM",
        "colab": {
          "base_uri": "https://localhost:8080/"
        },
        "outputId": "3097b69f-ee51-4a9b-8ff7-461238f75095"
      },
      "execution_count": 205,
      "outputs": [
        {
          "output_type": "stream",
          "name": "stderr",
          "text": [
            "  5%|▌         | 1/20 [00:58<18:35, 58.72s/it]"
          ]
        },
        {
          "output_type": "stream",
          "name": "stdout",
          "text": [
            "Epoch : 1/20 , Train Loss: 1.8889 , Train Accuracy 0.3079% , Test Accuracy 0.3972%\n"
          ]
        },
        {
          "output_type": "stream",
          "name": "stderr",
          "text": [
            "\r 10%|█         | 2/20 [01:55<17:13, 57.44s/it]"
          ]
        },
        {
          "output_type": "stream",
          "name": "stdout",
          "text": [
            "Epoch : 2/20 , Train Loss: 1.5853 , Train Accuracy 0.4234% , Test Accuracy 0.4698%\n"
          ]
        },
        {
          "output_type": "stream",
          "name": "stderr",
          "text": [
            "\r 15%|█▌        | 3/20 [02:50<16:02, 56.60s/it]"
          ]
        },
        {
          "output_type": "stream",
          "name": "stdout",
          "text": [
            "Epoch : 3/20 , Train Loss: 1.4615 , Train Accuracy 0.4698% , Test Accuracy 0.5008%\n"
          ]
        },
        {
          "output_type": "stream",
          "name": "stderr",
          "text": [
            "\r 20%|██        | 4/20 [03:47<15:04, 56.50s/it]"
          ]
        },
        {
          "output_type": "stream",
          "name": "stdout",
          "text": [
            "Epoch : 4/20 , Train Loss: 1.3694 , Train Accuracy 0.5055% , Test Accuracy 0.5219%\n"
          ]
        },
        {
          "output_type": "stream",
          "name": "stderr",
          "text": [
            "\r 25%|██▌       | 5/20 [04:43<14:08, 56.57s/it]"
          ]
        },
        {
          "output_type": "stream",
          "name": "stdout",
          "text": [
            "Epoch : 5/20 , Train Loss: 1.3079 , Train Accuracy 0.5285% , Test Accuracy 0.5301%\n"
          ]
        },
        {
          "output_type": "stream",
          "name": "stderr",
          "text": [
            "\r 30%|███       | 6/20 [05:40<13:10, 56.45s/it]"
          ]
        },
        {
          "output_type": "stream",
          "name": "stdout",
          "text": [
            "Epoch : 6/20 , Train Loss: 1.2525 , Train Accuracy 0.5503% , Test Accuracy 0.5622%\n"
          ]
        },
        {
          "output_type": "stream",
          "name": "stderr",
          "text": [
            "\r 35%|███▌      | 7/20 [06:36<12:14, 56.49s/it]"
          ]
        },
        {
          "output_type": "stream",
          "name": "stdout",
          "text": [
            "Epoch : 7/20 , Train Loss: 1.1976 , Train Accuracy 0.5691% , Test Accuracy 0.5739%\n"
          ]
        },
        {
          "output_type": "stream",
          "name": "stderr",
          "text": [
            "\r 40%|████      | 8/20 [07:32<11:16, 56.41s/it]"
          ]
        },
        {
          "output_type": "stream",
          "name": "stdout",
          "text": [
            "Epoch : 8/20 , Train Loss: 1.1572 , Train Accuracy 0.5840% , Test Accuracy 0.5928%\n"
          ]
        },
        {
          "output_type": "stream",
          "name": "stderr",
          "text": [
            "\r 45%|████▌     | 9/20 [08:29<10:19, 56.35s/it]"
          ]
        },
        {
          "output_type": "stream",
          "name": "stdout",
          "text": [
            "Epoch : 9/20 , Train Loss: 1.1276 , Train Accuracy 0.5945% , Test Accuracy 0.5976%\n"
          ]
        },
        {
          "output_type": "stream",
          "name": "stderr",
          "text": [
            "\r 50%|█████     | 10/20 [09:25<09:23, 56.39s/it]"
          ]
        },
        {
          "output_type": "stream",
          "name": "stdout",
          "text": [
            "Epoch : 10/20 , Train Loss: 1.0870 , Train Accuracy 0.6144% , Test Accuracy 0.6029%\n"
          ]
        },
        {
          "output_type": "stream",
          "name": "stderr",
          "text": [
            "\r 55%|█████▌    | 11/20 [10:21<08:26, 56.27s/it]"
          ]
        },
        {
          "output_type": "stream",
          "name": "stdout",
          "text": [
            "Epoch : 11/20 , Train Loss: 1.0440 , Train Accuracy 0.6279% , Test Accuracy 0.612%\n"
          ]
        },
        {
          "output_type": "stream",
          "name": "stderr",
          "text": [
            "\r 60%|██████    | 12/20 [11:17<07:30, 56.26s/it]"
          ]
        },
        {
          "output_type": "stream",
          "name": "stdout",
          "text": [
            "Epoch : 12/20 , Train Loss: 1.0252 , Train Accuracy 0.6353% , Test Accuracy 0.6238%\n"
          ]
        },
        {
          "output_type": "stream",
          "name": "stderr",
          "text": [
            "\r 65%|██████▌   | 13/20 [12:14<06:35, 56.48s/it]"
          ]
        },
        {
          "output_type": "stream",
          "name": "stdout",
          "text": [
            "Epoch : 13/20 , Train Loss: 0.9949 , Train Accuracy 0.6455% , Test Accuracy 0.6317%\n"
          ]
        },
        {
          "output_type": "stream",
          "name": "stderr",
          "text": [
            "\r 70%|███████   | 14/20 [13:11<05:39, 56.58s/it]"
          ]
        },
        {
          "output_type": "stream",
          "name": "stdout",
          "text": [
            "Epoch : 14/20 , Train Loss: 0.9578 , Train Accuracy 0.6566% , Test Accuracy 0.6529%\n"
          ]
        },
        {
          "output_type": "stream",
          "name": "stderr",
          "text": [
            "\r 75%|███████▌  | 15/20 [14:08<04:42, 56.52s/it]"
          ]
        },
        {
          "output_type": "stream",
          "name": "stdout",
          "text": [
            "Epoch : 15/20 , Train Loss: 0.9259 , Train Accuracy 0.6701% , Test Accuracy 0.6568%\n"
          ]
        },
        {
          "output_type": "stream",
          "name": "stderr",
          "text": [
            "\r 80%|████████  | 16/20 [15:05<03:46, 56.66s/it]"
          ]
        },
        {
          "output_type": "stream",
          "name": "stdout",
          "text": [
            "Epoch : 16/20 , Train Loss: 0.9024 , Train Accuracy 0.6778% , Test Accuracy 0.6669%\n"
          ]
        },
        {
          "output_type": "stream",
          "name": "stderr",
          "text": [
            "\r 85%|████████▌ | 17/20 [16:02<02:50, 56.78s/it]"
          ]
        },
        {
          "output_type": "stream",
          "name": "stdout",
          "text": [
            "Epoch : 17/20 , Train Loss: 0.8718 , Train Accuracy 0.6886% , Test Accuracy 0.6767%\n"
          ]
        },
        {
          "output_type": "stream",
          "name": "stderr",
          "text": [
            "\r 90%|█████████ | 18/20 [16:58<01:53, 56.72s/it]"
          ]
        },
        {
          "output_type": "stream",
          "name": "stdout",
          "text": [
            "Epoch : 18/20 , Train Loss: 0.8442 , Train Accuracy 0.7000% , Test Accuracy 0.6696%\n"
          ]
        },
        {
          "output_type": "stream",
          "name": "stderr",
          "text": [
            "\r 95%|█████████▌| 19/20 [17:55<00:56, 56.80s/it]"
          ]
        },
        {
          "output_type": "stream",
          "name": "stdout",
          "text": [
            "Epoch : 19/20 , Train Loss: 0.8145 , Train Accuracy 0.7110% , Test Accuracy 0.6809%\n"
          ]
        },
        {
          "output_type": "stream",
          "name": "stderr",
          "text": [
            "100%|██████████| 20/20 [18:52<00:00, 56.64s/it]"
          ]
        },
        {
          "output_type": "stream",
          "name": "stdout",
          "text": [
            "Epoch : 20/20 , Train Loss: 0.7887 , Train Accuracy 0.7193% , Test Accuracy 0.7021%\n"
          ]
        },
        {
          "output_type": "stream",
          "name": "stderr",
          "text": [
            "\n"
          ]
        }
      ]
    },
    {
      "cell_type": "code",
      "source": [
        "train_accuracies"
      ],
      "metadata": {
        "id": "9xx1j79qBMTE",
        "colab": {
          "base_uri": "https://localhost:8080/"
        },
        "outputId": "e478fbd2-c7c2-42e5-e71b-317071ed908b"
      },
      "execution_count": 206,
      "outputs": [
        {
          "output_type": "execute_result",
          "data": {
            "text/plain": [
              "[0.30792,\n",
              " 0.42338,\n",
              " 0.46978,\n",
              " 0.50552,\n",
              " 0.52848,\n",
              " 0.55026,\n",
              " 0.56912,\n",
              " 0.58398,\n",
              " 0.59448,\n",
              " 0.61436,\n",
              " 0.6279,\n",
              " 0.6353,\n",
              " 0.6455,\n",
              " 0.65658,\n",
              " 0.67014,\n",
              " 0.67778,\n",
              " 0.68864,\n",
              " 0.69998,\n",
              " 0.71104,\n",
              " 0.71932]"
            ]
          },
          "metadata": {},
          "execution_count": 206
        }
      ]
    },
    {
      "cell_type": "code",
      "source": [
        "test_accuracies"
      ],
      "metadata": {
        "id": "Ny0OXC3EBPS0",
        "colab": {
          "base_uri": "https://localhost:8080/"
        },
        "outputId": "81efd463-b651-46d3-a1d6-2b5c0ea30677"
      },
      "execution_count": 207,
      "outputs": [
        {
          "output_type": "execute_result",
          "data": {
            "text/plain": [
              "[0.3972,\n",
              " 0.4698,\n",
              " 0.5008,\n",
              " 0.5219,\n",
              " 0.5301,\n",
              " 0.5622,\n",
              " 0.5739,\n",
              " 0.5928,\n",
              " 0.5976,\n",
              " 0.6029,\n",
              " 0.612,\n",
              " 0.6238,\n",
              " 0.6317,\n",
              " 0.6529,\n",
              " 0.6568,\n",
              " 0.6669,\n",
              " 0.6767,\n",
              " 0.6696,\n",
              " 0.6809,\n",
              " 0.7021]"
            ]
          },
          "metadata": {},
          "execution_count": 207
        }
      ]
    },
    {
      "cell_type": "code",
      "source": [
        "plt.plot(train_accuracies,label=\"Train Accuracy\")\n",
        "plt.plot(test_accuracies,label=\"Test Accuracy\")\n",
        "plt.xlabel(\"Epochs\")\n",
        "plt.ylabel(\"Accuracy\")\n",
        "plt.title(\"Model Accuracies\")\n",
        "plt.legend()\n",
        "plt.show()"
      ],
      "metadata": {
        "id": "90oAja-wBRW-",
        "colab": {
          "base_uri": "https://localhost:8080/",
          "height": 472
        },
        "outputId": "561a4abb-4ced-4986-b711-d98c18c447ee"
      },
      "execution_count": 208,
      "outputs": [
        {
          "output_type": "display_data",
          "data": {
            "text/plain": [
              "<Figure size 640x480 with 1 Axes>"
            ],
            "image/png": "[encoded data removed]"
          },
          "metadata": {}
        }
      ]
    },
    {
      "cell_type": "markdown",
      "source": [
        "<h3>Plotting Predictions</h3>"
      ],
      "metadata": {
        "id": "GVL_I3wiwArD"
      }
    },
    {
      "cell_type": "code",
      "source": [
        "def plots(model,dataset,classes,grid_size=3):\n",
        "  model.eval()                                               # Setting the model to evaulation state\n",
        "  fig,axes=plt.subplots(grid_size,grid_size,figsize=(9,9))    # Creates a big image with small axes of 3*3 each axes contains a prediction image and target label\n",
        "  for i in range(grid_size):                                 # Iterating through rows\n",
        "    for j in range(grid_size):                               # Iterating through columns\n",
        "      index=random.randint(0,len(dataset)-1)\n",
        "      img , true_label= dataset[index]                       # getting the image and true label acc to random index\n",
        "      input_tensor= img.unsqueeze(dim=0).to(device)          # img is in [Channel,Height,Width]shape but our model expects the first entry to be the batch_size so adding a dim\n",
        "                                                             # Now - [1,Channel,Height,Width]... added to device because matplot lib expects both the image and model in same environment\n",
        "      with torch.inference_mode():                           # The backprop and other functions in back stop which increases speed so adding in inference mode\n",
        "        output=model(input_tensor)                           # [1,num_classes] format\n",
        "        _,predicted= torch.max(output.data,1)                # _ becuase we don't need batch size to be unpacked so taking a temp variable\n",
        "                                                             # Now we need maximum from the output probs across the dimension 1(num_classes)\n",
        "      img=img/2 + 0.5                                        # Matplotlib doesn't takes negative tensors in image visualization\n",
        "      npimg= img.cpu().numpy()                               # Matplotlib doesn't works on PyTorch Tensors\n",
        "      axes[i,j].imshow(np.transpose(npimg,(1,2,0)))          # Matplotlib imshow() expects us to have channels in last dim so we transpose\n",
        "      truth= classes[true_label]==classes[predicted.item()]  # .item() converts the tensor predicted class to integer\n",
        "      if truth:\n",
        "        color=\"g\"\n",
        "      else:\n",
        "        color=\"r\"\n",
        "      axes[i, j].set_title(f\"Truth: {classes[true_label]}\\n Predicted: {classes[predicted.item()]}\", fontsize=10, c=color)\n",
        "      axes[i, j].axis(\"off\")\n",
        "  plt.tight_layout()\n",
        "  plt.show()\n"
      ],
      "metadata": {
        "id": "UVrHCrr6ahA9"
      },
      "execution_count": 209,
      "outputs": []
    },
    {
      "cell_type": "code",
      "source": [
        "plots(model, test_dataset, classes=train_dataset.classes, grid_size=3)"
      ],
      "metadata": {
        "colab": {
          "base_uri": "https://localhost:8080/",
          "height": 906
        },
        "id": "QIwom8R1PN7k",
        "outputId": "a851e220-771e-44e3-b31e-07e26431fb2d"
      },
      "execution_count": 211,
      "outputs": [
        {
          "output_type": "display_data",
          "data": {
            "text/plain": [
              "<Figure size 900x900 with 9 Axes>"
            ],
            "image/png": "[encoded data removed]"
          },
          "metadata": {}
        }
      ]
    },
    {
      "cell_type": "code",
      "source": [],
      "metadata": {
        "id": "zdfowHa1Py0G"
      },
      "execution_count": null,
      "outputs": []
    }
  ]
}